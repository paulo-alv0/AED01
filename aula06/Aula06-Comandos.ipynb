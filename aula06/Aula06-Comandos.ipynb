{
 "cells": [
  {
   "cell_type": "markdown",
   "id": "df466553-8293-4c11-a6bb-27ec3d3d6e01",
   "metadata": {},
   "source": [
    "# COMANDOS DE ENTRADA E SAÍDA"
   ]
  },
  {
   "cell_type": "code",
   "execution_count": 1,
   "id": "0c7d681a-bbed-49c0-b2da-23d37fb5d7c5",
   "metadata": {},
   "outputs": [],
   "source": [
    "nome = \"Paulo\"\n",
    "idade = 18"
   ]
  },
  {
   "cell_type": "code",
   "execution_count": 2,
   "id": "00edc114-1410-483f-a047-0a336ec76d98",
   "metadata": {},
   "outputs": [
    {
     "name": "stdout",
     "output_type": "stream",
     "text": [
      "Paulo tem 18 anos!\n"
     ]
    }
   ],
   "source": [
    "print(nome, \"tem\", idade, \"anos!\")"
   ]
  },
  {
   "cell_type": "code",
   "execution_count": 4,
   "id": "ec4dbb3b-15e2-4068-89bd-16c46fc24480",
   "metadata": {},
   "outputs": [
    {
     "name": "stdin",
     "output_type": "stream",
     "text": [
      "Digite seu nome:  Paulo\n"
     ]
    }
   ],
   "source": [
    "nome = input(\"Digite seu nome: \")"
   ]
  },
  {
   "cell_type": "code",
   "execution_count": 5,
   "id": "f7be0358-15e8-4f08-aef3-1b0524d8a879",
   "metadata": {},
   "outputs": [
    {
     "name": "stdout",
     "output_type": "stream",
     "text": [
      "Paulo\n"
     ]
    }
   ],
   "source": [
    "print(nome)"
   ]
  },
  {
   "cell_type": "code",
   "execution_count": 6,
   "id": "2eaceec8-2b9f-4277-8416-ebbe9c10294f",
   "metadata": {},
   "outputs": [
    {
     "data": {
      "text/plain": [
       "str"
      ]
     },
     "execution_count": 6,
     "metadata": {},
     "output_type": "execute_result"
    }
   ],
   "source": [
    "type(nome)"
   ]
  },
  {
   "cell_type": "code",
   "execution_count": 7,
   "id": "e7922e9e-0af7-471b-a7f4-42cd28f2d73a",
   "metadata": {},
   "outputs": [
    {
     "name": "stdin",
     "output_type": "stream",
     "text": [
      "Digite sua idade:  18\n"
     ]
    }
   ],
   "source": [
    "idade = input(\"Digite sua idade: \")"
   ]
  },
  {
   "cell_type": "code",
   "execution_count": 8,
   "id": "9d2c9497-5ece-455a-b0f9-3f9744c044fb",
   "metadata": {},
   "outputs": [
    {
     "data": {
      "text/plain": [
       "'18'"
      ]
     },
     "execution_count": 8,
     "metadata": {},
     "output_type": "execute_result"
    }
   ],
   "source": [
    "idade"
   ]
  },
  {
   "cell_type": "code",
   "execution_count": 9,
   "id": "8b2e1a9e-57c2-4dd5-94d3-7a27d8caa08a",
   "metadata": {},
   "outputs": [
    {
     "data": {
      "text/plain": [
       "str"
      ]
     },
     "execution_count": 9,
     "metadata": {},
     "output_type": "execute_result"
    }
   ],
   "source": [
    "type(idade)"
   ]
  },
  {
   "cell_type": "code",
   "execution_count": 10,
   "id": "3d1e28bd-e802-47fb-a837-d4b9baaff29e",
   "metadata": {},
   "outputs": [],
   "source": [
    "idade = int(idade)"
   ]
  },
  {
   "cell_type": "code",
   "execution_count": 11,
   "id": "85978ed9-3fa2-4d82-886f-6d3e9d81652d",
   "metadata": {},
   "outputs": [
    {
     "data": {
      "text/plain": [
       "18"
      ]
     },
     "execution_count": 11,
     "metadata": {},
     "output_type": "execute_result"
    }
   ],
   "source": [
    "idade"
   ]
  },
  {
   "cell_type": "code",
   "execution_count": 12,
   "id": "2e34b4f0-0f37-4be8-b0c2-724cd0aa2b73",
   "metadata": {},
   "outputs": [
    {
     "data": {
      "text/plain": [
       "int"
      ]
     },
     "execution_count": 12,
     "metadata": {},
     "output_type": "execute_result"
    }
   ],
   "source": [
    "type(idade)"
   ]
  },
  {
   "cell_type": "code",
   "execution_count": 13,
   "id": "1717152b-ab16-4971-a525-9a55bd45deed",
   "metadata": {},
   "outputs": [
    {
     "ename": "ValueError",
     "evalue": "invalid literal for int() with base 10: 'Paulo'",
     "output_type": "error",
     "traceback": [
      "\u001b[1;31m---------------------------------------------------------------------------\u001b[0m",
      "\u001b[1;31mValueError\u001b[0m                                Traceback (most recent call last)",
      "Cell \u001b[1;32mIn[13], line 1\u001b[0m\n\u001b[1;32m----> 1\u001b[0m nome \u001b[38;5;241m=\u001b[39m \u001b[38;5;28mint\u001b[39m(nome)\n",
      "\u001b[1;31mValueError\u001b[0m: invalid literal for int() with base 10: 'Paulo'"
     ]
    }
   ],
   "source": [
    "nome = int(nome)"
   ]
  },
  {
   "cell_type": "code",
   "execution_count": 14,
   "id": "f9033d6c-a17c-4813-bda5-ff40ac5737ee",
   "metadata": {},
   "outputs": [
    {
     "name": "stdin",
     "output_type": "stream",
     "text": [
      "Digite sua idade:  18\n"
     ]
    }
   ],
   "source": [
    "idade = int(input(\"Digite sua idade: \"))"
   ]
  },
  {
   "cell_type": "code",
   "execution_count": 15,
   "id": "1214560f-821b-413a-98df-5ea0cc78480c",
   "metadata": {},
   "outputs": [
    {
     "data": {
      "text/plain": [
       "18"
      ]
     },
     "execution_count": 15,
     "metadata": {},
     "output_type": "execute_result"
    }
   ],
   "source": [
    "idade"
   ]
  },
  {
   "cell_type": "code",
   "execution_count": 16,
   "id": "75a1b3b2-0f47-4058-b1b0-f5a1b75d6530",
   "metadata": {},
   "outputs": [
    {
     "data": {
      "text/plain": [
       "int"
      ]
     },
     "execution_count": 16,
     "metadata": {},
     "output_type": "execute_result"
    }
   ],
   "source": [
    "type(idade)"
   ]
  },
  {
   "cell_type": "code",
   "execution_count": 17,
   "id": "5b1170cf-494c-4626-8c07-8f25ad6b4d1c",
   "metadata": {},
   "outputs": [],
   "source": [
    "idade = float(idade)"
   ]
  },
  {
   "cell_type": "code",
   "execution_count": 18,
   "id": "07916719-09d7-4e13-b68d-3d284e85d99b",
   "metadata": {},
   "outputs": [
    {
     "data": {
      "text/plain": [
       "18.0"
      ]
     },
     "execution_count": 18,
     "metadata": {},
     "output_type": "execute_result"
    }
   ],
   "source": [
    "idade"
   ]
  },
  {
   "cell_type": "code",
   "execution_count": 19,
   "id": "e03b8257-1312-4180-8625-e440c608e91f",
   "metadata": {},
   "outputs": [
    {
     "data": {
      "text/plain": [
       "float"
      ]
     },
     "execution_count": 19,
     "metadata": {},
     "output_type": "execute_result"
    }
   ],
   "source": [
    "type(idade)"
   ]
  },
  {
   "cell_type": "code",
   "execution_count": 20,
   "id": "b3513e00-0428-4d95-8d12-08b402a33d16",
   "metadata": {},
   "outputs": [],
   "source": [
    "idade = int(idade)"
   ]
  },
  {
   "cell_type": "code",
   "execution_count": 21,
   "id": "4d4953e0-d49b-44d0-a4e6-daaac1b65302",
   "metadata": {},
   "outputs": [
    {
     "data": {
      "text/plain": [
       "18"
      ]
     },
     "execution_count": 21,
     "metadata": {},
     "output_type": "execute_result"
    }
   ],
   "source": [
    "idade"
   ]
  },
  {
   "cell_type": "code",
   "execution_count": 22,
   "id": "4ab161b9-f95b-4a0b-be6e-bba9da2ae215",
   "metadata": {},
   "outputs": [
    {
     "data": {
      "text/plain": [
       "int"
      ]
     },
     "execution_count": 22,
     "metadata": {},
     "output_type": "execute_result"
    }
   ],
   "source": [
    "type(idade)"
   ]
  },
  {
   "cell_type": "code",
   "execution_count": 23,
   "id": "1b70684c-c2d9-462d-a18c-ce6f1b508dff",
   "metadata": {},
   "outputs": [],
   "source": [
    "idade = str(idade)"
   ]
  },
  {
   "cell_type": "code",
   "execution_count": 24,
   "id": "1a921001-c02f-433f-9303-3e535672d7ed",
   "metadata": {},
   "outputs": [
    {
     "data": {
      "text/plain": [
       "'18'"
      ]
     },
     "execution_count": 24,
     "metadata": {},
     "output_type": "execute_result"
    }
   ],
   "source": [
    "idade"
   ]
  },
  {
   "cell_type": "markdown",
   "id": "0e6588dc-8e4b-41d1-9221-cb5566e6edc2",
   "metadata": {},
   "source": [
    "# EXEMPLO 1"
   ]
  },
  {
   "cell_type": "code",
   "execution_count": 25,
   "id": "0c84273c-4cf1-484b-8b28-9b6c4418f82f",
   "metadata": {},
   "outputs": [
    {
     "name": "stdin",
     "output_type": "stream",
     "text": [
      "Digite o lado maior:  5\n",
      "Digite o lado menor:  3\n"
     ]
    },
    {
     "name": "stdout",
     "output_type": "stream",
     "text": [
      "A Área do Quadrilátero é:  15.0\n"
     ]
    }
   ],
   "source": [
    "lado1 = float(input(\"Digite o lado maior: \"))\n",
    "lado2 = float(input(\"Digite o lado menor: \"))\n",
    "area = lado1 * lado2\n",
    "print(\"A Área do Quadrilátero é: \", area)"
   ]
  },
  {
   "cell_type": "code",
   "execution_count": null,
   "id": "9c85d0e5-845e-42a9-99ac-1390b69baa9b",
   "metadata": {},
   "outputs": [],
   "source": []
  }
 ],
 "metadata": {
  "kernelspec": {
   "display_name": "Python [conda env:base] *",
   "language": "python",
   "name": "conda-base-py"
  },
  "language_info": {
   "codemirror_mode": {
    "name": "ipython",
    "version": 3
   },
   "file_extension": ".py",
   "mimetype": "text/x-python",
   "name": "python",
   "nbconvert_exporter": "python",
   "pygments_lexer": "ipython3",
   "version": "3.12.7"
  }
 },
 "nbformat": 4,
 "nbformat_minor": 5
}
