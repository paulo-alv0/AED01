{
 "cells": [
  {
   "cell_type": "markdown",
   "id": "4c129537-1fa2-4fea-a086-558f7d241538",
   "metadata": {},
   "source": [
    "# CONDICIONAIS"
   ]
  },
  {
   "cell_type": "markdown",
   "id": "8f221c62-c9cd-485f-8dc4-446e85a6a182",
   "metadata": {},
   "source": [
    "# Exercício 0\n",
    "\n",
    "Faça um algoritmo para ler um número e mostrar se ele é par ou ímpar, positivo ou negativo."
   ]
  },
  {
   "cell_type": "code",
   "execution_count": 106,
   "id": "2d24b411-bbb5-40e5-a0d5-4c2bd4e389a4",
   "metadata": {},
   "outputs": [
    {
     "name": "stdin",
     "output_type": "stream",
     "text": [
      "Digite um número: -5\n"
     ]
    },
    {
     "name": "stdout",
     "output_type": "stream",
     "text": [
      "O número é ímpar.\n",
      "-5 é negativo.\n"
     ]
    }
   ],
   "source": [
    "n = int(input(\"Digite um número:\"))\n",
    "\n",
    "if n == 0:\n",
    "    print(\"O número é zero.\")\n",
    "elif n % 2 == 0:\n",
    "    print(\"O número é par.\")\n",
    "    if n < 0:\n",
    "        print(n,\"é negativo.\")\n",
    "    else:\n",
    "        print(n,\"é positivo.\")\n",
    "else:\n",
    "    print(\"O número é ímpar.\")\n",
    "    if n < 0:\n",
    "        print(n,\"é negativo.\")\n",
    "    else:\n",
    "        print(n,\"é positivo.\")"
   ]
  },
  {
   "cell_type": "markdown",
   "id": "7a5afc36-fb33-4cb0-aefd-3fd3aba46f58",
   "metadata": {},
   "source": [
    "# Exercício 1\n",
    "\n",
    "Faça um programa que peça dois números e imprima o maior deles."
   ]
  },
  {
   "cell_type": "code",
   "execution_count": 36,
   "id": "b564a5bc-4fc4-4552-b381-2b8912242894",
   "metadata": {},
   "outputs": [
    {
     "name": "stdin",
     "output_type": "stream",
     "text": [
      "Digite um número: 5\n",
      "Digite outro número: 10\n"
     ]
    },
    {
     "name": "stdout",
     "output_type": "stream",
     "text": [
      "O maior número é: 10\n"
     ]
    }
   ],
   "source": [
    "n1 = int(input(\"Digite um número:\"))\n",
    "n2 = int(input(\"Digite outro número:\"))\n",
    "\n",
    "if n1 > n2:\n",
    "    print(\"O maior número é:\", n1)\n",
    "else:\n",
    "    print(\"O maior número é:\", n2)"
   ]
  },
  {
   "cell_type": "markdown",
   "id": "18538fdc-9a69-4247-828d-675a2f14bad0",
   "metadata": {},
   "source": [
    "# Exercício 2\n",
    "\n",
    "Faça um programa que peça um valor e mostre na tela se o valor é positivo ou negativo."
   ]
  },
  {
   "cell_type": "code",
   "execution_count": 49,
   "id": "837d2925-2588-4e3a-9784-a5596c4d8598",
   "metadata": {},
   "outputs": [
    {
     "name": "stdin",
     "output_type": "stream",
     "text": [
      "Digite um número: -2\n"
     ]
    },
    {
     "name": "stdout",
     "output_type": "stream",
     "text": [
      "-2 é um número negativo.\n"
     ]
    }
   ],
   "source": [
    "n = int(input(\"Digite um número:\"))\n",
    "\n",
    "if n == 0:\n",
    "    print(n,\"é um número neutro.\")\n",
    "elif n < 0:\n",
    "    print(n,\"é um número negativo.\")\n",
    "else:\n",
    "    print(n,\"é um número positivo.\")"
   ]
  },
  {
   "cell_type": "markdown",
   "id": "9b08c785-211f-46d0-894d-670d0bdce772",
   "metadata": {},
   "source": [
    "# Exercício 3\n",
    "\n",
    "Faça um programa que verifique se uma letra digitada é vogal ou consoante."
   ]
  },
  {
   "cell_type": "code",
   "execution_count": 80,
   "id": "bbc9e715-95b3-43c1-b715-29a8d99ec7c9",
   "metadata": {},
   "outputs": [
    {
     "name": "stdin",
     "output_type": "stream",
     "text": [
      "Digite uma letra: a\n"
     ]
    },
    {
     "name": "stdout",
     "output_type": "stream",
     "text": [
      "A é uma vogal.\n"
     ]
    }
   ],
   "source": [
    "letra = input(\"Digite uma letra:\").upper()\n",
    "\n",
    "if letra == 'A' or letra == 'E' or letra == 'I' or letra == 'O' or letra == 'U':\n",
    "    print(letra,\"é uma vogal.\")\n",
    "else:\n",
    "    print(letra,\"é uma consoante.\")"
   ]
  },
  {
   "cell_type": "markdown",
   "id": "c612cd48-5d7c-4d0b-9bc9-8a0dbd14dbea",
   "metadata": {},
   "source": [
    "# Exercício 4\n",
    "\n",
    "Faça um programa para a leitura de duas notas parciais de um aluno. O programa deve calcular a média alcançada por\n",
    "aluno e apresentar:  \n",
    "a. A mensagem \"Aprovado\", se a média alcançada for maior ou igual a sete;  \n",
    "b. A mensagem \"Reprovado\", se a média for menor do que sete;  \n",
    "c. A mensagem \"Aprovado com Distinção\", se a média for igual a dez.  \n"
   ]
  },
  {
   "cell_type": "code",
   "execution_count": 98,
   "id": "c420ec06-6b7b-4a49-a9d1-d69f54535dc1",
   "metadata": {},
   "outputs": [
    {
     "name": "stdin",
     "output_type": "stream",
     "text": [
      "Digite a primeira nota: 9\n",
      "Digite a segunda nota: 8\n"
     ]
    },
    {
     "name": "stdout",
     "output_type": "stream",
     "text": [
      "Aprovado\n"
     ]
    }
   ],
   "source": [
    "nota1 = float(input(\"Digite a primeira nota:\"))\n",
    "nota2 = float(input(\"Digite a segunda nota:\"))\n",
    "media = (nota1 + nota2) / 2\n",
    "\n",
    "if media == 10:\n",
    "    print(\"Aprovado com Distinção\")\n",
    "elif media >= 7:\n",
    "    print(\"Aprovado\")\n",
    "else:\n",
    "    print(\"Reprovado\")"
   ]
  },
  {
   "cell_type": "markdown",
   "id": "aa8074c4-4f23-4a12-92a4-0f9f5982a3da",
   "metadata": {},
   "source": [
    "# Exercício 5\n",
    "\n",
    "Faça um programa que pergunte o preço de três produtos e informe qual produto você deve comprar, sabendo que a decisão é sempre pelo mais barato."
   ]
  },
  {
   "cell_type": "code",
   "execution_count": 107,
   "id": "ca958be4-56b9-4304-8436-18da69b3bae9",
   "metadata": {},
   "outputs": [
    {
     "name": "stdin",
     "output_type": "stream",
     "text": [
      "Quanto custa o primeiro produto? 7.50\n",
      "Quanto custa o segundo produto? 5.00\n",
      "Quanto custa o terceiro produto? 2.50\n"
     ]
    },
    {
     "name": "stdout",
     "output_type": "stream",
     "text": [
      "O produto mais em conta custa: 2.5\n"
     ]
    }
   ],
   "source": [
    "p1 = float(input(\"Quanto custa o primeiro produto?\"))\n",
    "p2 = float(input(\"Quanto custa o segundo produto?\"))\n",
    "p3 = float(input(\"Quanto custa o terceiro produto?\"))\n",
    "\n",
    "if p1 < p2 and p1 < p3:\n",
    "    print(\"O produto mais em conta custa:\",p1)\n",
    "elif p2 < p1 and p2 < p3:\n",
    "    print(\"O produto mais em conta custa:\",p2)\n",
    "elif p3 < p1 and p3 < p2:\n",
    "    print(\"O produto mais em conta custa:\",p3)"
   ]
  },
  {
   "cell_type": "markdown",
   "id": "895958d0-d074-4e68-9ef2-24bb956aa163",
   "metadata": {},
   "source": [
    "# Exercício 6\n",
    "\n",
    "Faça um programa que leia três números e mostre-os em ordem decrescente."
   ]
  },
  {
   "cell_type": "code",
   "execution_count": 114,
   "id": "8ed1297e-5df6-4de8-bc66-dbd30edc96e7",
   "metadata": {},
   "outputs": [
    {
     "name": "stdin",
     "output_type": "stream",
     "text": [
      "Digite o primeiro número: 1\n",
      "Digite o segundo número: 3\n",
      "Digite o terceiro número: 2\n"
     ]
    },
    {
     "name": "stdout",
     "output_type": "stream",
     "text": [
      "Ordem decrescente: 3 - 2 - 1\n"
     ]
    }
   ],
   "source": [
    "n1 = int(input(\"Digite o primeiro número:\"))\n",
    "n2 = int(input(\"Digite o segundo número:\"))\n",
    "n3 = int(input(\"Digite o terceiro número:\"))\n",
    "\n",
    "if n1 >= n2 and n1 >= n3:\n",
    "    if n2 >= n3:\n",
    "        print(\"Ordem decrescente:\", n1, \"-\", n2, \"-\", n3)\n",
    "    else:\n",
    "        print(\"Ordem decrescente:\",n1, \"-\", n3, \"-\", n2)\n",
    "elif n2 >= n1 and n2 >= n3:\n",
    "    if n1 >= n3:\n",
    "        print(\"Ordem decrescente:\",n2, \"-\", n1, \"-\", n3)\n",
    "    else:\n",
    "        print(\"Ordem decrescente:\",n2, \"-\", n3, \"-\", n1)\n",
    "elif n3 >= n1 and n3 >= n2:\n",
    "    if n1 >= n2:\n",
    "        print(\"Ordem decrescente:\",n3, \"-\", n1, \"-\", n2)\n",
    "    else:\n",
    "        print(\"Ordem decrescente:\",n3, \"-\", n2, \"-\", n1)"
   ]
  },
  {
   "cell_type": "markdown",
   "id": "7fc90f78-372e-4187-af67-84107a15ca15",
   "metadata": {},
   "source": [
    "# Exercício 7\n",
    "\n",
    "Faça um programa que pergunte em que turno você estuda. Peça para digitar M-Matutino ou V-Vespertino ou N-Noturno.  \n",
    "Imprima a mensagem \"Bom Dia!\", \"Boa Tarde!\" ou \"Boa Noite!\" ou \"Valor Inválido!\", conforme o caso."
   ]
  },
  {
   "cell_type": "code",
   "execution_count": 144,
   "id": "7e7c4d26-dfd7-4af7-9e4d-43b01106cdb9",
   "metadata": {},
   "outputs": [
    {
     "name": "stdin",
     "output_type": "stream",
     "text": [
      "Estudante, insira seu turno:\n",
      "M - Matutino\n",
      "V - Vespertino\n",
      "N - Noturno\n",
      " n\n"
     ]
    },
    {
     "name": "stdout",
     "output_type": "stream",
     "text": [
      "Boa noite!\n"
     ]
    }
   ],
   "source": [
    "t = input(\"Estudante, insira seu turno:\\nM - Matutino\\nV - Vespertino\\nN - Noturno\\n\").upper()\n",
    "\n",
    "if t == 'M':\n",
    "    print(\"Bom dia!\")\n",
    "elif t == 'V':\n",
    "    print(\"Boa tarde!\")\n",
    "elif t == 'N':\n",
    "    print(\"Boa noite!\")\n",
    "else:\n",
    "    print(\"Valor inválido!\")"
   ]
  },
  {
   "cell_type": "markdown",
   "id": "2689fcdc-dec5-4787-b1b9-77cfae925a0e",
   "metadata": {},
   "source": [
    "# Exercício 8\n",
    "\n",
    "```\n",
    "As Organizações Tabajara resolveram dar um aumento de salário aos seus colaboradores e lhe contraram para desenvolver o programa que calculará os reajustes.\n",
    "a. Faça um programa que recebe o salário de um colaborador e o reajuste segundo o seguinte critério, baseado no salário atual:\n",
    "b. salários até RS 280,00 (incluindo) : aumento de 20%\n",
    "c. salários entre RS 280,00 e RS 700,00 : aumento de 15%\n",
    "d. salários entre RS 700,00 e RS 1500,00 : aumento de 10%\n",
    "e. salários de R$ 1500,00 em diante : aumento de 5% Após o aumento ser realizado, informe na tela:\n",
    "\n",
    "f. o salário antes do reajuste;\n",
    "g. o percentual de aumento aplicado;\n",
    "h. o valor do aumento;\n",
    "i. o novo salário, após o aumento.\n",
    "```"
   ]
  },
  {
   "cell_type": "code",
   "execution_count": 188,
   "id": "a18bc57d-bb8a-44da-a1bc-27e84fe34db7",
   "metadata": {},
   "outputs": [
    {
     "name": "stdin",
     "output_type": "stream",
     "text": [
      "Insira o salário atual: R$ 1250.00\n"
     ]
    },
    {
     "name": "stdout",
     "output_type": "stream",
     "text": [
      "Salário: R$ 1250.0\n",
      "Aumento de 10.0 %\n",
      "\n",
      "Valor do aumento: +R$ 125.0\n",
      "Novo Salário: R$ 1375.0\n"
     ]
    }
   ],
   "source": [
    "sal = float(input(\"Insira o salário atual: R$\"))\n",
    "\n",
    "if sal <= 280.00:\n",
    "    perc = 0.20\n",
    "elif (280.00 <= sal <= 700.00):\n",
    "    perc = 0.15\n",
    "elif (700.00 <= sal <= 1500.00):\n",
    "    perc = 0.10\n",
    "else:\n",
    "    perc = 0.05\n",
    "\n",
    "aum = sal * perc\n",
    "novo_sal = sal + aum \n",
    "\n",
    "print(\"Salário: R$\",sal)\n",
    "print(\"Aumento de\",perc * 100,\"%\\n\")\n",
    "\n",
    "print(\"Valor do aumento: +R$\",aum)\n",
    "print(\"Novo Salário: R$\",novo_sal)"
   ]
  },
  {
   "cell_type": "markdown",
   "id": "ba3952fb-03a2-40db-960c-3bbecbbdd59a",
   "metadata": {},
   "source": [
    "# Exercício 9\n",
    "\n",
    "Faça um programa para o cálculo de uma folha de pagamento, sabendo que os descontos são do Imposto de Renda, que depende do salário bruto (conforme tabela abaixo) e 3% para o Sindicato e que o FGTS corresponde a 11% do Salário Bruto, mas não é descontado (é a empresa que deposita). O Salário Líquido corresponde ao Salário Bruto menos os descontos. O programa deverá pedir ao usuário o valor da sua hora e a quantidade de horas trabalhadas no mês.  \n",
    "a. Desconto do IR:  \n",
    "b. Salário Bruto até 900 (inclusive) - isento  \n",
    "c. Salário Bruto até 1500 (inclusive) - desconto de 5%  \n",
    "d. Salário Bruto até 2500 (inclusive) - desconto de 10%  \n",
    "e. Salário Bruto acima de 2500 - desconto de 20%  \n",
    "Imprima na tela as informações, dispostas conforme o exemplo abaixo. No exemplo o valor da hora é 5 e a quantidade de hora é 220.  "
   ]
  },
  {
   "cell_type": "code",
   "execution_count": 256,
   "id": "01847e82-ce2c-4698-9421-3787090e9682",
   "metadata": {},
   "outputs": [
    {
     "name": "stdout",
     "output_type": "stream",
     "text": [
      " - Folha de Pagamento - \n"
     ]
    },
    {
     "name": "stdin",
     "output_type": "stream",
     "text": [
      "Informe o valor de sua hora de trabalho. R$ 10\n",
      "Informe o número de horas trabalhadas (mês). 220\n"
     ]
    },
    {
     "name": "stdout",
     "output_type": "stream",
     "text": [
      "Salário Bruto: R$ 2200.0\n",
      "\n",
      "Descontos:\n",
      "- IR, de 10.0 %: -R$ 220.0\n",
      "- Sindicato, de 3%: -R$ 66.0\n",
      "- FGTS, de 11% (depositado pela empresa): -R$ 242.0\n",
      "\n",
      "Salário Líquido: 1914.0\n"
     ]
    }
   ],
   "source": [
    "print(\" - Folha de Pagamento - \")\n",
    "val_h = float(input(\"Informe o valor de sua hora de trabalho. R$\"))\n",
    "num_h = int(input(\"Informe o número de horas trabalhadas (mês).\"))\n",
    "sal = val_h * num_h\n",
    "\n",
    "if sal <= 900.00:\n",
    "    ir = 0\n",
    "elif sal <= 1500.00:\n",
    "    ir = 0.05\n",
    "elif sal <= 2500.00:\n",
    "    ir = 0.10\n",
    "else:\n",
    "    ir = 0.20\n",
    "\n",
    "desc_ir = sal * ir\n",
    "desc_sind = sal * 0.03\n",
    "desc_fgts = sal * 0.11\n",
    "\n",
    "print(\"Salário Bruto: R$\",sal)\n",
    "print(\"\\nDescontos:\")\n",
    "print(\"- IR, de\",ir * 100,\"%: -R$\",desc_ir)\n",
    "print(\"- Sindicato, de 3%: -R$\",desc_sind)\n",
    "print(\"- FGTS, de 11% (depositado pela empresa): -R$\",desc_fgts)\n",
    "print(\"\\nSalário Líquido:\",sal - desc_ir - desc_sind)"
   ]
  },
  {
   "cell_type": "markdown",
   "id": "d510c861-b027-465c-bee3-4a662b6deb9d",
   "metadata": {},
   "source": [
    "# Exercício 10\n",
    "\n",
    "Faça um programa que lê as duas notas parciais obtidas por um aluno numa disciplina ao longo de um semestre, e calcule a sua média. A atribuição de conceitos obedece a tabela abaixo:  \n",
    "\n",
    "```\n",
    "a. Média de Aproveitamento - Conceito\n",
    "b. Entre 9.0 e 10.0 - A\n",
    "c. Entre 7.5 e 9.0 - B\n",
    "d. Entre 6.0 e 7.5 - C\n",
    "e. Entre 4.0 e 6.0 - D\n",
    "f. Entre 4.0 e zero - E\n",
    "```"
   ]
  },
  {
   "cell_type": "code",
   "execution_count": 204,
   "id": "856cc176-580e-4d55-b3e4-6b67047fd5e1",
   "metadata": {},
   "outputs": [
    {
     "name": "stdin",
     "output_type": "stream",
     "text": [
      "Digite a primeira nota: 8.8\n",
      "Digite a segunda nota: 9.2\n"
     ]
    },
    {
     "name": "stdout",
     "output_type": "stream",
     "text": [
      "Média: 9.0\n",
      "Sua nota está no conceito A.\n"
     ]
    }
   ],
   "source": [
    "nota1 = float(input(\"Digite a primeira nota:\"))\n",
    "nota2 = float(input(\"Digite a segunda nota:\"))\n",
    "media = (nota1 + nota2) / 2\n",
    "\n",
    "print(\"Média:\",media)\n",
    "if media >= 9.0:\n",
    "    print(\"Sua nota está no conceito A.\")\n",
    "elif (7.5 <= media <= 9.0):\n",
    "    print(\"Sua nota está no conceito B.\")\n",
    "elif (6.0 <= media <= 7.5):\n",
    "    print(\"Sua nota está no conceito C.\")\n",
    "elif (4.0 <= media <= 6.0):\n",
    "    print(\"Sua nota está no conceito D.\")\n",
    "else:\n",
    "    print(\"Sua nota está no conceito E.\")"
   ]
  }
 ],
 "metadata": {
  "kernelspec": {
   "display_name": "Python [conda env:base] *",
   "language": "python",
   "name": "conda-base-py"
  },
  "language_info": {
   "codemirror_mode": {
    "name": "ipython",
    "version": 3
   },
   "file_extension": ".py",
   "mimetype": "text/x-python",
   "name": "python",
   "nbconvert_exporter": "python",
   "pygments_lexer": "ipython3",
   "version": "3.12.7"
  }
 },
 "nbformat": 4,
 "nbformat_minor": 5
}
