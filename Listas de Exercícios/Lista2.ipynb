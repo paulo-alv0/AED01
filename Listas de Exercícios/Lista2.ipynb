{
 "cells": [
  {
   "cell_type": "markdown",
   "id": "68d7bdc6-ac7a-4090-acd2-2fe47ef7be5f",
   "metadata": {},
   "source": [
    "# LOOPS DE REPETIÇÃO"
   ]
  },
  {
   "cell_type": "markdown",
   "id": "4c9efcb3-05bf-43ea-b83e-4d4563d910ef",
   "metadata": {},
   "source": [
    "# Exercício 1\n",
    "\n",
    "Faça um programa que peça uma nota, entre zero e dez. Mostre uma mensagem caso o valor seja inválido e continue\n",
    "pedindo até que o usuário informe um valor válido."
   ]
  },
  {
   "cell_type": "code",
   "execution_count": 20,
   "id": "f47e4511-9e87-4050-80dc-045e913c8299",
   "metadata": {},
   "outputs": [
    {
     "name": "stdin",
     "output_type": "stream",
     "text": [
      "Insira a nota do aluno (0-10):  11\n"
     ]
    },
    {
     "name": "stdout",
     "output_type": "stream",
     "text": [
      "Nota inválida. Tente novamente.\n",
      "\n"
     ]
    },
    {
     "name": "stdin",
     "output_type": "stream",
     "text": [
      "Insira a nota do aluno (0-10):  8.5\n"
     ]
    },
    {
     "name": "stdout",
     "output_type": "stream",
     "text": [
      "Nota salva.\n"
     ]
    }
   ],
   "source": [
    "while True:\n",
    "    nota = float(input(\"Insira a nota do aluno (0-10): \"))\n",
    "    if (0 <= nota <= 10):\n",
    "        print(\"Nota salva.\")\n",
    "        break\n",
    "    else:\n",
    "        print(\"Nota inválida. Tente novamente.\\n\")"
   ]
  },
  {
   "cell_type": "markdown",
   "id": "b65346db-9488-47e1-813b-4c5f103b37a6",
   "metadata": {},
   "source": [
    "# Exercício 2\n",
    "\n",
    "Faça um programa que leia um nome de usuário e a sua senha e não aceite a senha igual ao nome do usuário, mostrando\n",
    "uma mensagem de erro e voltando a pedir as informações."
   ]
  },
  {
   "cell_type": "code",
   "execution_count": 27,
   "id": "fbc3276f-c724-45ba-b0c5-b801911a1584",
   "metadata": {},
   "outputs": [
    {
     "name": "stdin",
     "output_type": "stream",
     "text": [
      "Usuário:  pauloa\n",
      "Senha:  pauloa\n"
     ]
    },
    {
     "name": "stdout",
     "output_type": "stream",
     "text": [
      "Erro: (Senha) não pode ser igual (Usuário).\n"
     ]
    },
    {
     "name": "stdin",
     "output_type": "stream",
     "text": [
      "Usuário:  pauloa\n",
      "Senha:  123\n"
     ]
    },
    {
     "name": "stdout",
     "output_type": "stream",
     "text": [
      "Bem-vindo(a),  pauloa\n"
     ]
    }
   ],
   "source": [
    "while True:\n",
    "    nome = input(\"Usuário: \")\n",
    "    senha = input(\"Senha: \")\n",
    "    if senha != nome:\n",
    "        print(\"Bem-vindo(a), \", nome)\n",
    "        break\n",
    "    else:\n",
    "        print(\"Erro: (Senha) não pode ser igual (Usuário).\")"
   ]
  },
  {
   "cell_type": "markdown",
   "id": "a01e863c-b084-4b31-94eb-ec3999dbd178",
   "metadata": {},
   "source": [
    "# Exercício 3\n",
    "\n",
    "Faça um programa que leia e valide as seguintes informações:  \n",
    "a. Nome: maior que 3 caracteres;  \n",
    "b. Idade: entre 0 e 150;  \n",
    "c. Salário: maior que zero;  \n",
    "d. Sexo: 'f' ou 'm';  \n",
    "e. Estado Civil: 's', 'c', 'v', 'd';  "
   ]
  },
  {
   "cell_type": "code",
   "execution_count": 45,
   "id": "457d70c3-d760-4bc1-8dc7-0ee6d2996fc6",
   "metadata": {},
   "outputs": [
    {
     "name": "stdin",
     "output_type": "stream",
     "text": [
      "Nome:  a\n"
     ]
    },
    {
     "name": "stdout",
     "output_type": "stream",
     "text": [
      "Erro - (Nome) precisa ter mais que (3) caracteres.\n",
      "\n"
     ]
    },
    {
     "name": "stdin",
     "output_type": "stream",
     "text": [
      "Nome:  paulo\n",
      "Idade:  200\n"
     ]
    },
    {
     "name": "stdout",
     "output_type": "stream",
     "text": [
      "Erro - (Idade) inválida. Tente novamente.\n",
      "\n"
     ]
    },
    {
     "name": "stdin",
     "output_type": "stream",
     "text": [
      "Nome:  paulo\n",
      "Idade:  18\n",
      "Salário:  -1\n"
     ]
    },
    {
     "name": "stdout",
     "output_type": "stream",
     "text": [
      "Erro - Valor de (Salário) não encontrado.\n",
      "\n"
     ]
    },
    {
     "name": "stdin",
     "output_type": "stream",
     "text": [
      "Nome:  paulo\n",
      "Idade:  18\n",
      "Salário:  1200.00\n",
      "Sexo (M/F):  x\n"
     ]
    },
    {
     "name": "stdout",
     "output_type": "stream",
     "text": [
      "Erro - Digite (M) ou (F).\n",
      "\n"
     ]
    },
    {
     "name": "stdin",
     "output_type": "stream",
     "text": [
      "Nome:  paulo\n",
      "Idade:  18\n",
      "Salário:  1200.00\n",
      "Sexo (M/F):  m\n",
      "Estado Civil:\n",
      "S - Solteiro(a)\n",
      "C - Casado(a)\n",
      "V - Viúvo(a)\n",
      "D - Divorciado(a)\n",
      " x\n"
     ]
    },
    {
     "name": "stdout",
     "output_type": "stream",
     "text": [
      "Erro - Digite (S), (C), (V) ou (D).\n",
      "\n"
     ]
    },
    {
     "name": "stdin",
     "output_type": "stream",
     "text": [
      "Nome:  paulo\n",
      "Idade:  18\n",
      "Salário:  1200.00\n",
      "Sexo (M/F):  m\n",
      "Estado Civil:\n",
      "S - Solteiro(a)\n",
      "C - Casado(a)\n",
      "V - Viúvo(a)\n",
      "D - Divorciado(a)\n",
      " s\n"
     ]
    },
    {
     "name": "stdout",
     "output_type": "stream",
     "text": [
      "Dados pessoais salvos com sucesso.\n"
     ]
    }
   ],
   "source": [
    "while True:\n",
    "    nome = input(\"Nome: \")\n",
    "    if len(nome) <= 3:\n",
    "        print(\"Erro - (Nome) precisa ter mais que (3) caracteres.\\n\")\n",
    "        continue\n",
    "        \n",
    "    idade = int(input(\"Idade: \"))\n",
    "    if idade < 0 or idade > 150:\n",
    "        print(\"Erro - (Idade) inválida. Tente novamente.\\n\")\n",
    "        continue\n",
    "        \n",
    "    sal = float(input(\"Salário: \"))\n",
    "    if sal <= 0:\n",
    "        print(\"Erro - Valor de (Salário) não encontrado.\\n\")\n",
    "        continue\n",
    "        \n",
    "    sexo = input(\"Sexo (M/F): \").upper()\n",
    "    if sexo not in ['M', 'F']:\n",
    "        print(\"Erro - Digite (M) ou (F).\\n\")\n",
    "        continue\n",
    "        \n",
    "    e_civ = input(\"Estado Civil:\\nS - Solteiro(a)\\nC - Casado(a)\\nV - Viúvo(a)\\nD - Divorciado(a)\\n\").upper()\n",
    "    if e_civ not in ['S', 'C', 'V', 'D']:\n",
    "        print(\"Erro - Digite (S), (C), (V) ou (D).\\n\")\n",
    "        continue\n",
    "            \n",
    "    print(\"Dados pessoais salvos com sucesso.\")\n",
    "    break"
   ]
  },
  {
   "cell_type": "markdown",
   "id": "61e0128b-9c1f-438d-bc50-25ecea2e8a71",
   "metadata": {},
   "source": [
    "# Exercício 4\n",
    "\n",
    "Supondo que a população de um país A seja da ordem de 80000 habitantes com uma taxa anual de crescimento de 3% e\n",
    "que a população de B seja 200000 habitantes com uma taxa de crescimento de 1.5%. Faça um programa que calcule e\n",
    "escreva o número de anos necessários para que a população do país A ultrapasse ou iguale a população do país B,\n",
    "mantidas as taxas de crescimento."
   ]
  },
  {
   "cell_type": "code",
   "execution_count": 19,
   "id": "6b58ed4d-ac72-46b7-bab1-0e9cb1dc3fe0",
   "metadata": {},
   "outputs": [
    {
     "name": "stdout",
     "output_type": "stream",
     "text": [
      "Levará 63 anos para que a população de A chegue a de B:\n",
      "A:515033 x B:510964\n"
     ]
    }
   ],
   "source": [
    "anos = 0\n",
    "pop_a = 80000\n",
    "pop_b = 200000\n",
    "\n",
    "while pop_a < pop_b:\n",
    "     pop_a = pop_a + (pop_a * 3 / 100)\n",
    "     pop_b = pop_b + (pop_b * 1.5 / 100)\n",
    "     anos += 1\n",
    "    \n",
    "print(f\"Levará {anos} anos para que a população de A chegue a de B:\\nA:{int(pop_a)} x B:{int(pop_b)}\")"
   ]
  },
  {
   "cell_type": "markdown",
   "id": "0a4272f1-6b2a-4641-b730-16f6d75fb7a5",
   "metadata": {},
   "source": [
    "# Exercício 5\n",
    "\n",
    "Faça um programa que leia 5 números e informe a soma e a média dos números."
   ]
  },
  {
   "cell_type": "code",
   "execution_count": 19,
   "id": "8f06a916-d878-4c10-a9b8-8e527d0d6c4e",
   "metadata": {},
   "outputs": [
    {
     "name": "stdin",
     "output_type": "stream",
     "text": [
      "Digite um número:  1\n",
      "Digite um número:  2\n",
      "Digite um número:  3\n",
      "Digite um número:  4\n",
      "Digite um número:  5\n"
     ]
    },
    {
     "name": "stdout",
     "output_type": "stream",
     "text": [
      "A soma desses números é:  15\n",
      "A média desses números é:  3.0\n"
     ]
    }
   ],
   "source": [
    "soma = 0\n",
    "\n",
    "for i in range(1,6):\n",
    "    num = int(input(\"Digite um número: \"))\n",
    "    soma += num\n",
    "    \n",
    "media = soma / 5\n",
    "\n",
    "print(\"A soma desses números é: \", soma)\n",
    "print(\"A média desses números é: \", media)"
   ]
  },
  {
   "cell_type": "markdown",
   "id": "59073218-8e86-4a10-a75e-4bbf16487018",
   "metadata": {},
   "source": [
    "# Exercício 6\n",
    "\n",
    "Desenvolva um gerador de tabuada, capaz de gerar a tabuada de qualquer número inteiro entre 1 a 10. O usuário deve\n",
    "informar de qual numero ele deseja ver a tabuada. A saída deve ser conforme o exemplo abaixo:\n",
    "```\n",
    "a. Tabuada de 5:\n",
    "b. 5 X 1 = 5\n",
    "c. 5 X 2 = 10\n",
    "d. ...\n",
    "e. 5 X 10 = 50\n",
    "```"
   ]
  },
  {
   "cell_type": "code",
   "execution_count": 29,
   "id": "fa36d8c7-01b4-4483-9f14-f5336f409df0",
   "metadata": {},
   "outputs": [
    {
     "name": "stdout",
     "output_type": "stream",
     "text": [
      " - Tabuada - \n"
     ]
    },
    {
     "name": "stdin",
     "output_type": "stream",
     "text": [
      "Insira um número de 1 a 10: \n",
      " 7\n"
     ]
    },
    {
     "name": "stdout",
     "output_type": "stream",
     "text": [
      "7 x 1 = 7\n",
      "7 x 2 = 14\n",
      "7 x 3 = 21\n",
      "7 x 4 = 28\n",
      "7 x 5 = 35\n",
      "7 x 6 = 42\n",
      "7 x 7 = 49\n",
      "7 x 8 = 56\n",
      "7 x 9 = 63\n",
      "7 x 10 = 70\n"
     ]
    }
   ],
   "source": [
    "print(\" - Tabuada - \")\n",
    "num = int(input(\"Insira um número de 1 a 10: \\n\"))\n",
    "\n",
    "for i in range(1,11):\n",
    "    mult = num * i\n",
    "    print(f\"{num} x {i} = {mult}\")"
   ]
  },
  {
   "cell_type": "markdown",
   "id": "59551fe4-288b-4cf9-aa4e-a78b9c836ed2",
   "metadata": {},
   "source": [
    "# Exercício 7\n",
    "\n",
    "A série de Fibonacci é formada pela seqüência 1,1,2,3,5,8,13,21,34,55,... Faça um programa capaz de gerar a série até o\n",
    "n−ésimo termo."
   ]
  },
  {
   "cell_type": "code",
   "execution_count": null,
   "id": "6255bad0-da4e-4d41-9f26-96fbba383862",
   "metadata": {},
   "outputs": [],
   "source": []
  },
  {
   "cell_type": "markdown",
   "id": "6a67f467-e011-4b9e-bf8a-03104981de1a",
   "metadata": {},
   "source": [
    "# Exercício 8\n",
    "\n",
    "Faça um programa que calcule o mostre a média aritmética de N notas."
   ]
  },
  {
   "cell_type": "code",
   "execution_count": 39,
   "id": "c0df201b-1a70-4e1b-a84f-06d87695517f",
   "metadata": {},
   "outputs": [
    {
     "name": "stdin",
     "output_type": "stream",
     "text": [
      "Digite a nota do aluno (S para sair):  8\n",
      "Digite a nota do aluno (S para sair):  7.5\n",
      "Digite a nota do aluno (S para sair):  9\n",
      "Digite a nota do aluno (S para sair):  10\n",
      "Digite a nota do aluno (S para sair):  9\n",
      "Digite a nota do aluno (S para sair):  s\n"
     ]
    },
    {
     "name": "stdout",
     "output_type": "stream",
     "text": [
      "A média do aluno é:  8.7\n"
     ]
    }
   ],
   "source": [
    "soma = 0\n",
    "contador = 0\n",
    "\n",
    "while True:\n",
    "    nota = input(\"Digite a nota do aluno (S para sair): \")\n",
    "    if nota.lower() == 's':\n",
    "        break\n",
    "    else:\n",
    "        nota = float(nota)\n",
    "        soma += nota\n",
    "        contador += 1\n",
    "\n",
    "if contador > 0:\n",
    "    media = soma / contador\n",
    "    print(\"A média do aluno é: \",media)\n",
    "else:\n",
    "    print(\"Nenhuma nota foi digitada.\")"
   ]
  },
  {
   "cell_type": "markdown",
   "id": "79a12e9f-e999-44fb-8a90-3c01a41e9b35",
   "metadata": {},
   "source": [
    "# Exercício 9\n",
    "\n",
    "O Sr. Manoel Joaquim possui uma grande loja de artigos de R$ 1,99, com cerca de 10 caixas. Para agilizar o cálculo de\n",
    "quanto cada cliente deve pagar ele desenvolveu um tabela que contém o número de itens que o cliente comprou e ao lado\n",
    "o valor da conta. Desta forma a atendente do caixa precisa apenas contar quantos itens o cliente está levando e olhar na\n",
    "tabela de preços. Você foi contratado para desenvolver o programa que monta esta tabela de preços, que conterá os preços\n",
    "de 1 até 50 produtos, conforme o exemplo abaixo:\n",
    "```\n",
    "a. Lojas Quase Dois - Tabela de preços\n",
    "b. 1 - R$ 1.99\n",
    "c. 2 - R$ 3.98\n",
    "d. ...\n",
    "e. 50 - R$ 99.50\n",
    "```"
   ]
  },
  {
   "cell_type": "code",
   "execution_count": 2,
   "id": "1035f5a7-5900-4b54-a580-0bf5c7e26458",
   "metadata": {},
   "outputs": [
    {
     "name": "stdin",
     "output_type": "stream",
     "text": [
      "Quantidade de produtos (cliente):  10\n"
     ]
    },
    {
     "name": "stdout",
     "output_type": "stream",
     "text": [
      "- Tabela de Preços -\n",
      "1 - R$1.99\n",
      "2 - R$3.98\n",
      "3 - R$5.97\n",
      "4 - R$7.96\n",
      "5 - R$9.95\n",
      "6 - R$11.94\n",
      "7 - R$13.93\n",
      "8 - R$15.92\n",
      "9 - R$17.91\n",
      "10 - R$19.90\n",
      "11 - R$21.89\n",
      "12 - R$23.88\n",
      "13 - R$25.87\n",
      "14 - R$27.86\n",
      "15 - R$29.85\n",
      "16 - R$31.84\n",
      "17 - R$33.83\n",
      "18 - R$35.82\n",
      "19 - R$37.81\n",
      "20 - R$39.80\n",
      "21 - R$41.79\n",
      "22 - R$43.78\n",
      "23 - R$45.77\n",
      "24 - R$47.76\n",
      "25 - R$49.75\n",
      "26 - R$51.74\n",
      "27 - R$53.73\n",
      "28 - R$55.72\n",
      "29 - R$57.71\n",
      "30 - R$59.70\n",
      "31 - R$61.69\n",
      "32 - R$63.68\n",
      "33 - R$65.67\n",
      "34 - R$67.66\n",
      "35 - R$69.65\n",
      "36 - R$71.64\n",
      "37 - R$73.63\n",
      "38 - R$75.62\n",
      "39 - R$77.61\n",
      "40 - R$79.60\n",
      "41 - R$81.59\n",
      "42 - R$83.58\n",
      "43 - R$85.57\n",
      "44 - R$87.56\n",
      "45 - R$89.55\n",
      "46 - R$91.54\n",
      "47 - R$93.53\n",
      "48 - R$95.52\n",
      "49 - R$97.51\n",
      "50 - R$99.50\n",
      "O preço para 10 produto(s) é 19.9\n"
     ]
    }
   ],
   "source": [
    "qtd = int(input(\"Quantidade de produtos (cliente): \"))\n",
    "\n",
    "print(\"- Tabela de Preços -\")\n",
    "\n",
    "for i in range(1,51):\n",
    "    preco = i * 1.99\n",
    "    print(f\"{i} - R${preco:.2f}\")\n",
    "\n",
    "print(f\"O preço para {qtd} produto(s) é {qtd * 1.99}\")"
   ]
  },
  {
   "cell_type": "markdown",
   "id": "35adab35-28b3-4a2b-8b40-ef2c530cd4b5",
   "metadata": {},
   "source": [
    "# Exercício 10\n",
    "\n",
    "O Departamento Estadual de Meteorologia lhe contratou para desenvolver um programa que leia as um conjunto indeterminado de\n",
    "temperaturas, e informe ao final a menor e a maior temperaturas informadas, bem como a média das temperaturas."
   ]
  },
  {
   "cell_type": "code",
   "execution_count": 4,
   "id": "c7ab1ec7-c88e-4de0-8c1a-073324624d88",
   "metadata": {},
   "outputs": [
    {
     "name": "stdin",
     "output_type": "stream",
     "text": [
      "Digite uma temperatura (s para sair):  10\n",
      "Digite uma temperatura (s para sair):  30\n",
      "Digite uma temperatura (s para sair):  22\n",
      "Digite uma temperatura (s para sair):  s\n"
     ]
    },
    {
     "name": "stdout",
     "output_type": "stream",
     "text": [
      "\n",
      "Menor: 10.00C\n",
      "Maior: 30.00C\n",
      "Média: 20.67C\n"
     ]
    }
   ],
   "source": [
    "soma = 0\n",
    "qtd = 0\n",
    "\n",
    "e = input(\"Digite uma temperatura (s para sair): \")\n",
    "\n",
    "if e.lower() != 's':\n",
    "    temp = float(e)\n",
    "    menor = temp\n",
    "    maior = temp\n",
    "\n",
    "    while True:\n",
    "        soma += temp\n",
    "        qtd += 1\n",
    "\n",
    "        if temp < menor:\n",
    "            menor = temp\n",
    "        if temp > maior:\n",
    "            maior = temp\n",
    "\n",
    "        e = input(\"Digite uma temperatura (s para sair): \")\n",
    "        if e.lower() == 's':\n",
    "            break\n",
    "        temp = float(e)\n",
    "\n",
    "    print(f\"\\nMenor: {menor:.2f}C\")\n",
    "    print(f\"Maior: {maior:.2f}C\")\n",
    "    print(f\"Média: {soma/qtd:.2f}C\")\n",
    "else:\n",
    "    print(\"Temperatura não reconhecida.\")"
   ]
  }
 ],
 "metadata": {
  "kernelspec": {
   "display_name": "Python [conda env:base] *",
   "language": "python",
   "name": "conda-base-py"
  },
  "language_info": {
   "codemirror_mode": {
    "name": "ipython",
    "version": 3
   },
   "file_extension": ".py",
   "mimetype": "text/x-python",
   "name": "python",
   "nbconvert_exporter": "python",
   "pygments_lexer": "ipython3",
   "version": "3.12.7"
  }
 },
 "nbformat": 4,
 "nbformat_minor": 5
}
