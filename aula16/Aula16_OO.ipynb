{
 "cells": [
  {
   "cell_type": "markdown",
   "metadata": {},
   "source": [
    "![Algoritmos e Estrutura de Dados I](AED1_banner.jpg)"
   ]
  },
  {
   "cell_type": "markdown",
   "metadata": {
    "id": "QlFTfgKfdo2h"
   },
   "source": [
    "## <font color='blue'>Algoritmos e Estrutura de Dados 1 </font>\n",
    "### <font color='blue'>Aula 16 - Orientação a Objetos (POO)</font>"
   ]
  },
  {
   "cell_type": "markdown",
   "metadata": {},
   "source": [
    "#### Criando uma primeira classe"
   ]
  },
  {
   "cell_type": "code",
   "execution_count": null,
   "metadata": {},
   "outputs": [],
   "source": [
    "# criando uma classe\n",
    "class Automovel:\n",
    "    pass"
   ]
  },
  {
   "cell_type": "code",
   "execution_count": null,
   "metadata": {},
   "outputs": [],
   "source": [
    "# instanciando um objeto dessa classe\n",
    "meu_carro = Automovel()"
   ]
  },
  {
   "cell_type": "code",
   "execution_count": null,
   "metadata": {},
   "outputs": [],
   "source": [
    "# melhorando a classe Automóvel.\n",
    "class Automovel:\n",
    "    def __init__(self, placa):\n",
    "        self.placa = placa"
   ]
  },
  {
   "cell_type": "code",
   "execution_count": null,
   "metadata": {},
   "outputs": [],
   "source": [
    "# instanciando esse novo objeto\n",
    "meu_carro = Automovel('XZX1234')"
   ]
  },
  {
   "cell_type": "code",
   "execution_count": null,
   "metadata": {},
   "outputs": [],
   "source": [
    "# consultando um atributo do objeto.\n",
    "print(meu_carro.placa)"
   ]
  },
  {
   "cell_type": "code",
   "execution_count": null,
   "metadata": {},
   "outputs": [],
   "source": [
    "# Melhorando a classe Automóvel\n",
    "class Automovel:\n",
    "    def __init__(self, placa):\n",
    "        self.placa = placa\n",
    "\n",
    "    def get_placa(self):\n",
    "        return self.placa"
   ]
  },
  {
   "cell_type": "code",
   "execution_count": null,
   "metadata": {},
   "outputs": [],
   "source": [
    "# inicializando o objeto\n",
    "meu_carro = Automovel('XZX1234')"
   ]
  },
  {
   "cell_type": "code",
   "execution_count": null,
   "metadata": {},
   "outputs": [],
   "source": [
    "# consultando um atributo, mas agora respeitando o encapsulamento de dados (proteção)\n",
    "print(meu_carro.get_placa())"
   ]
  },
  {
   "cell_type": "code",
   "execution_count": null,
   "metadata": {},
   "outputs": [],
   "source": [
    "## mas ainda não está adequado, pois podemos fazer a alteração da placa...\n",
    "meu_carro.placa = 'ZZZ0011'"
   ]
  },
  {
   "cell_type": "code",
   "execution_count": null,
   "metadata": {},
   "outputs": [],
   "source": [
    "# consultando o mesmo atributo...\n",
    "print(meu_carro.get_placa())"
   ]
  },
  {
   "cell_type": "code",
   "execution_count": null,
   "metadata": {},
   "outputs": [],
   "source": [
    "# Melhorando a classe Automóvel\n",
    "class Automovel:\n",
    "    def __init__(self, placa):\n",
    "        self.placa = placa\n",
    "\n",
    "    def get_placa(self):\n",
    "        return self.placa\n",
    "\n",
    "    def dirigir(self, velocidade):\n",
    "        print(f'Estou digirindo a {velocidade} km/h')"
   ]
  },
  {
   "cell_type": "code",
   "execution_count": null,
   "metadata": {},
   "outputs": [],
   "source": [
    "# inicializando um novo objeto e consultando um atributo\n",
    "meu_carro = Automovel('XZX1234')\n",
    "print(meu_carro.get_placa())"
   ]
  },
  {
   "cell_type": "code",
   "execution_count": null,
   "metadata": {},
   "outputs": [],
   "source": [
    "# executando um método específico\n",
    "meu_carro.dirigir(100)"
   ]
  },
  {
   "cell_type": "code",
   "execution_count": null,
   "metadata": {},
   "outputs": [],
   "source": [
    "# Ampliando a classe Automóvel\n",
    "class Automovel:\n",
    "    def __init__(self, placa, velocidade_max):\n",
    "        self.placa = placa\n",
    "        self.velocidade_max = velocidade_max\n",
    "\n",
    "    def to_str(self):\n",
    "        return f'{self.velocidade_max} Km/h'\n",
    "\n",
    "    def get_placa(self):\n",
    "        return self.placa\n",
    "\n",
    "    def dirigir(self, velocidade):\n",
    "        print(f'Estou digirindo a {velocidade} km/h')"
   ]
  },
  {
   "cell_type": "code",
   "execution_count": null,
   "metadata": {},
   "outputs": [],
   "source": [
    "# instanciando um objeto, mostrando um atributo e definindo a velocidade.\n",
    "meu_carro = Automovel('XZX1234', 180)\n",
    "print(meu_carro.get_placa())\n",
    "meu_carro.dirigir(100)"
   ]
  },
  {
   "cell_type": "code",
   "execution_count": null,
   "metadata": {},
   "outputs": [],
   "source": [
    "# Consultando um método que retorna a velocidade máxima.\n",
    "print(meu_carro.to_str())"
   ]
  },
  {
   "cell_type": "markdown",
   "metadata": {},
   "source": [
    "#### Método mágico _ _ str _ _"
   ]
  },
  {
   "cell_type": "code",
   "execution_count": null,
   "metadata": {},
   "outputs": [],
   "source": [
    "class Automovel:\n",
    "    def __init__(self, placa, velocidade_max):\n",
    "        self.placa = placa\n",
    "        self.velocidade_max = velocidade_max\n",
    "\n",
    "    ## def to_str(self):\n",
    "    ##    return f'{self.velocidade_max} Km/h'\n",
    "\n",
    "    def __str__(self):\n",
    "        return f'{self.velocidade_max} Km/h'\n",
    "\n",
    "    def get_placa(self):\n",
    "        return self.placa\n",
    "\n",
    "    def dirigir(self, velocidade):\n",
    "        print(f'Estou digirindo a {velocidade} km/h')"
   ]
  },
  {
   "cell_type": "code",
   "execution_count": null,
   "metadata": {},
   "outputs": [],
   "source": [
    "# instanciando o objeto, consultando a placa e executando o método de definição de velocidade \n",
    "meu_carro = Automovel('XZX1234', 180)\n",
    "print(meu_carro.get_placa())\n",
    "meu_carro.dirigir(100)"
   ]
  },
  {
   "cell_type": "code",
   "execution_count": null,
   "metadata": {},
   "outputs": [],
   "source": [
    "# agora quando eu consulto o objeto, ele me retorna o texto definido em __str__\n",
    "print(meu_carro)"
   ]
  },
  {
   "cell_type": "code",
   "execution_count": null,
   "metadata": {},
   "outputs": [],
   "source": [
    "# Ampliando a Classe Automóvel\n",
    "class Automovel:\n",
    "    def __init__(self, placa, velocidade_max):\n",
    "        self.placa = placa\n",
    "        self.velocidade_max = velocidade_max\n",
    "        self.velocidade_atual = 0\n",
    "\n",
    "    def __str__(self):\n",
    "        return f'{self.velocidade_atual} Km/h'\n",
    "\n",
    "    def get_placa(self):\n",
    "        return self.placa\n",
    "\n",
    "    def acelerar(self):\n",
    "        return None\n",
    "\n",
    "    def frear(self):\n",
    "        return None\n",
    "\n",
    "meu_carro = Automovel('XZX1234', 180)"
   ]
  },
  {
   "cell_type": "code",
   "execution_count": null,
   "metadata": {},
   "outputs": [],
   "source": [
    "# Ampliando a Classe Automóvel\n",
    "class Automovel:\n",
    "    def __init__(self, placa, velocidade_max):\n",
    "        self.placa = placa\n",
    "        self.velocidade_max = velocidade_max\n",
    "        self.velocidade_atual = 0\n",
    "\n",
    "    def __str__(self):\n",
    "        return f'{self.velocidade_atual} Km/h'\n",
    "\n",
    "    def get_placa(self):\n",
    "        return self.placa\n",
    "\n",
    "    def acelerar(self):\n",
    "        maxima = self.velocidade_max\n",
    "        nova = self.velocidade_atual + 10\n",
    "        self.velocidade_atual = nova if nova <= maxima else maxima\n",
    "\n",
    "    def frear(self):\n",
    "        nova = self.velocidade_atual - 10\n",
    "        self.velocidade_atual = nova if nova >= 0 else 0"
   ]
  },
  {
   "cell_type": "code",
   "execution_count": null,
   "metadata": {},
   "outputs": [],
   "source": [
    "# criando um objeto novo\n",
    "meu_carro = Automovel('XZX1234', 180)"
   ]
  },
  {
   "cell_type": "code",
   "execution_count": null,
   "metadata": {},
   "outputs": [],
   "source": [
    "# acelerando gradativamente o carro\n",
    "for _ in range(20):\n",
    "    meu_carro.acelerar()\n",
    "    print(meu_carro)"
   ]
  },
  {
   "cell_type": "code",
   "execution_count": null,
   "metadata": {},
   "outputs": [],
   "source": [
    "# freando gradativamente o carro\n",
    "for _ in range(20):\n",
    "    meu_carro.frear()\n",
    "    print(meu_carro)"
   ]
  },
  {
   "cell_type": "markdown",
   "metadata": {},
   "source": [
    "#### Atributos privados"
   ]
  },
  {
   "cell_type": "markdown",
   "metadata": {},
   "source": [
    "Sem encapsulamento"
   ]
  },
  {
   "cell_type": "code",
   "execution_count": null,
   "metadata": {},
   "outputs": [],
   "source": [
    "meu_carro = Automovel('XZX1234', 180)"
   ]
  },
  {
   "cell_type": "code",
   "execution_count": null,
   "metadata": {},
   "outputs": [],
   "source": [
    "print(meu_carro)"
   ]
  },
  {
   "cell_type": "code",
   "execution_count": null,
   "metadata": {},
   "outputs": [],
   "source": [
    "print(meu_carro.velocidade_max)"
   ]
  },
  {
   "cell_type": "code",
   "execution_count": null,
   "metadata": {},
   "outputs": [],
   "source": [
    "print(meu_carro.get_placa())"
   ]
  },
  {
   "cell_type": "code",
   "execution_count": null,
   "metadata": {},
   "outputs": [],
   "source": [
    "#Sem encapsulamento adequado... VIOLA O PRINC\n",
    "meu_carro.placa = 'XXX0000'\n",
    "meu_carro.velocidade_max = 200\n",
    "meu_carro.velocidade_atual = 190"
   ]
  },
  {
   "cell_type": "code",
   "execution_count": null,
   "metadata": {},
   "outputs": [],
   "source": [
    "print(meu_carro)"
   ]
  },
  {
   "cell_type": "code",
   "execution_count": null,
   "metadata": {},
   "outputs": [],
   "source": [
    "print(meu_carro.velocidade_max)"
   ]
  },
  {
   "cell_type": "code",
   "execution_count": null,
   "metadata": {},
   "outputs": [],
   "source": [
    "print(meu_carro.get_placa())"
   ]
  },
  {
   "cell_type": "markdown",
   "metadata": {},
   "source": [
    "COM Encapsulamento  --> **REDEFININDO A CLASSE**"
   ]
  },
  {
   "cell_type": "code",
   "execution_count": null,
   "metadata": {},
   "outputs": [],
   "source": [
    "class Automovel:\n",
    "    def __init__(self, placa, velocidade_max):\n",
    "        self.__placa = placa\n",
    "        self.__velocidade_max = velocidade_max\n",
    "        self.__velocidade_atual = 0\n",
    "\n",
    "    def __str__(self):\n",
    "        return f'{self.__velocidade_atual} Km/h'\n",
    "\n",
    "    def get_placa(self):\n",
    "        return self.__placa\n",
    "\n",
    "    def acelerar(self):\n",
    "        maxima = self.__velocidade_max\n",
    "        nova = self.__velocidade_atual + 10\n",
    "        self.__velocidade_atual = nova if nova <= maxima else maxima\n",
    "\n",
    "    def frear(self):\n",
    "        nova = self.__velocidade_atual - 10\n",
    "        self.__velocidade_atual = nova if nova >= 0 else 0"
   ]
  },
  {
   "cell_type": "code",
   "execution_count": null,
   "metadata": {},
   "outputs": [],
   "source": [
    "meu_carro = Automovel('XZX1234', 180)"
   ]
  },
  {
   "cell_type": "code",
   "execution_count": null,
   "metadata": {},
   "outputs": [],
   "source": [
    "print(meu_carro)"
   ]
  },
  {
   "cell_type": "code",
   "execution_count": null,
   "metadata": {},
   "outputs": [],
   "source": [
    "print(meu_carro.__velocidade_max)"
   ]
  },
  {
   "cell_type": "code",
   "execution_count": null,
   "metadata": {},
   "outputs": [],
   "source": [
    "print(meu_carro.__placa)"
   ]
  },
  {
   "cell_type": "code",
   "execution_count": null,
   "metadata": {},
   "outputs": [],
   "source": [
    "print(meu_carro.__velocidade_atual)"
   ]
  },
  {
   "cell_type": "markdown",
   "metadata": {},
   "source": [
    "#### Métodos GETTERS e SETTERS"
   ]
  },
  {
   "cell_type": "code",
   "execution_count": null,
   "metadata": {},
   "outputs": [],
   "source": [
    "class Automovel:\n",
    "    def __init__(self, placa, velocidade_max):\n",
    "        self.__placa = placa\n",
    "        self.__velocidade_max = velocidade_max\n",
    "        self.__velocidade_atual = 0\n",
    "\n",
    "    def __str__(self):\n",
    "        return f'{self.__velocidade_atual} Km/h'\n",
    "        \n",
    "    # obterm a informação do atributo placa\n",
    "    def get_placa(self):\n",
    "        return self.__placa\n",
    "\n",
    "    # obterm a informação do atributo velocidade_max\n",
    "    def get_velocidade_max(self):\n",
    "        return self.__velocidade_max\n",
    "\n",
    "    # possibilita a alteração da informação do atributo velocidade_max\n",
    "    def set_velocidade_max(self, nova):\n",
    "        self.__velocidade_max = nova\n",
    "\n",
    "    def acelerar(self):\n",
    "        maxima = self.velocidade_max\n",
    "        nova = self.velocidade_atual + 10\n",
    "        self.velocidade_atual = nova if nova <= maxima else maxima\n",
    "\n",
    "    def frear(self):\n",
    "        nova = self.velocidade_atual - 10\n",
    "        self.velocidade_atual = nova if nova >= 0 else 0"
   ]
  },
  {
   "cell_type": "code",
   "execution_count": null,
   "metadata": {},
   "outputs": [],
   "source": [
    "meu_carro = Automovel('XZX123', 180)"
   ]
  },
  {
   "cell_type": "code",
   "execution_count": null,
   "metadata": {},
   "outputs": [],
   "source": [
    "print(meu_carro)"
   ]
  },
  {
   "cell_type": "code",
   "execution_count": null,
   "metadata": {},
   "outputs": [],
   "source": [
    "print(meu_carro.get_placa())"
   ]
  },
  {
   "cell_type": "code",
   "execution_count": null,
   "metadata": {},
   "outputs": [],
   "source": [
    "print(meu_carro.get_velocidade_max())"
   ]
  },
  {
   "cell_type": "code",
   "execution_count": null,
   "metadata": {},
   "outputs": [],
   "source": [
    "#Com encapsulamento adequado...\n",
    "meu_carro.set_velocidade_max(200)"
   ]
  },
  {
   "cell_type": "code",
   "execution_count": null,
   "metadata": {},
   "outputs": [],
   "source": [
    "print(meu_carro)"
   ]
  },
  {
   "cell_type": "code",
   "execution_count": null,
   "metadata": {},
   "outputs": [],
   "source": [
    "print(meu_carro.get_placa())"
   ]
  },
  {
   "cell_type": "code",
   "execution_count": null,
   "metadata": {},
   "outputs": [],
   "source": [
    "print(meu_carro.get_velocidade_max())"
   ]
  },
  {
   "cell_type": "markdown",
   "metadata": {},
   "source": [
    "#### Atributos de Classe"
   ]
  },
  {
   "cell_type": "code",
   "execution_count": null,
   "metadata": {},
   "outputs": [],
   "source": [
    "class Automovel:\n",
    "    # atributos de classe\n",
    "    contador = 0\n",
    "    precisao = 0.95  # 5% \n",
    "    \n",
    "    def __init__(self, placa, velocidade_max):\n",
    "        self.__id = Automovel.contador + 1\n",
    "        self.__placa = placa\n",
    "        self.__velocidade_max = velocidade_max * Automovel.precisao\n",
    "        self.__velocidade_atual = 0\n",
    "        Automovel.contador = self.__id\n",
    "\n",
    "    def __str__(self):\n",
    "        return f'{self.__id} - {self.__velocidade_atual} Km/h'\n",
    "\n",
    "    def get_placa(self):\n",
    "        return self.__placa\n",
    "\n",
    "    def get_velocidade_max(self):\n",
    "        return self.__velocidade_max\n",
    "\n",
    "    def set_velocidade_max(self, nova):\n",
    "        self.__velocidade_max = nova\n",
    "\n",
    "    def acelerar(self):\n",
    "        maxima = self.velocidade_max\n",
    "        nova = self.velocidade_atual + 10\n",
    "        self.velocidade_atual = nova if nova <= maxima else maxima\n",
    "\n",
    "    def frear(self):\n",
    "        nova = self.velocidade_atual - 10\n",
    "        self.velocidade_atual = nova if nova >= 0 else 0"
   ]
  },
  {
   "cell_type": "code",
   "execution_count": null,
   "metadata": {},
   "outputs": [],
   "source": [
    "meu_carro = Automovel('XZX1234', 180)\n",
    "seu_carro = Automovel('XXX0000', 200)"
   ]
  },
  {
   "cell_type": "code",
   "execution_count": null,
   "metadata": {},
   "outputs": [],
   "source": [
    "print(meu_carro)\n",
    "print(meu_carro.get_placa())\n",
    "print(meu_carro.get_velocidade_max())"
   ]
  },
  {
   "cell_type": "code",
   "execution_count": null,
   "metadata": {},
   "outputs": [],
   "source": [
    "print(seu_carro)\n",
    "print(seu_carro.get_placa())\n",
    "print(seu_carro.get_velocidade_max())"
   ]
  },
  {
   "cell_type": "markdown",
   "metadata": {},
   "source": [
    "---------------"
   ]
  },
  {
   "cell_type": "markdown",
   "metadata": {},
   "source": [
    "### Exemplo de Utilização"
   ]
  },
  {
   "cell_type": "code",
   "execution_count": null,
   "metadata": {
    "id": "6F0oISzgwJZx"
   },
   "outputs": [],
   "source": [
    "class Triangulo:\n",
    "  def __init__(self, lado1, lado2, lado3, base, altura):\n",
    "    self.lado1 = lado1\n",
    "    self.lado2 = lado2\n",
    "    self.lado3 = lado3\n",
    "    self.base = base\n",
    "    self.altura = altura\n",
    "\n",
    "  def area(self):\n",
    "    return (self.base * self.altura) / 2\n",
    "\n",
    "  def tipo(self):\n",
    "    if (self.lado1 >= self.lado2 + self.lado3) or (self.lado2 >= self.lado1 + self.lado3) or (self.lado3 >= self.lado1 + self.lado2):\n",
    "      return 'Não é um Triângulo'\n",
    "    elif (self.lado1 == self.lado2 == self.lado3):\n",
    "        return 'Triângulo Equilátero'\n",
    "    elif (self.lado1 == self.lado2) or (self.lado1 == self.lado3) or (self.lado1 == self.lado2):\n",
    "      return 'Triângulo Isósceles'\n",
    "    else:\n",
    "      return 'Triângulo Escaleno'"
   ]
  },
  {
   "cell_type": "code",
   "execution_count": null,
   "metadata": {
    "id": "SDq4Y5ZDwx8c"
   },
   "outputs": [],
   "source": [
    "t1 = Triangulo(5, 1, 3, 4, 3)"
   ]
  },
  {
   "cell_type": "code",
   "execution_count": null,
   "metadata": {
    "colab": {
     "base_uri": "https://localhost:8080/",
     "height": 34
    },
    "id": "hq763UNxxApW",
    "outputId": "95449788-b2a6-421e-a73a-7a7d65a4f52a"
   },
   "outputs": [],
   "source": [
    "print(t1.lado1, t1.lado2, t1.lado3, t1.base, t1.altura)"
   ]
  },
  {
   "cell_type": "code",
   "execution_count": null,
   "metadata": {
    "colab": {
     "base_uri": "https://localhost:8080/",
     "height": 34
    },
    "id": "OzOP8kKPyKus",
    "outputId": "c549f734-a066-43f5-cba6-63aa005fbe41"
   },
   "outputs": [],
   "source": [
    "t1.area()"
   ]
  },
  {
   "cell_type": "code",
   "execution_count": null,
   "metadata": {
    "colab": {
     "base_uri": "https://localhost:8080/",
     "height": 35
    },
    "id": "YcGAuLMEzCx-",
    "outputId": "f2edf208-5a94-4754-b1d4-1c5f8baae536"
   },
   "outputs": [],
   "source": [
    "t1.tipo()"
   ]
  },
  {
   "cell_type": "code",
   "execution_count": null,
   "metadata": {
    "colab": {
     "base_uri": "https://localhost:8080/",
     "height": 34
    },
    "id": "3WRbsJ0sxJy-",
    "outputId": "1c2c2151-a5d0-4e8c-a9a8-36f366736e3d"
   },
   "outputs": [],
   "source": [
    "t2 = Triangulo(8, 8, 8, 16, 9)\n",
    "print(t2.lado1, t2.lado2, t2.lado3, t2.base, t2.altura)"
   ]
  },
  {
   "cell_type": "code",
   "execution_count": null,
   "metadata": {
    "colab": {
     "base_uri": "https://localhost:8080/",
     "height": 34
    },
    "id": "iBlImwTXyWry",
    "outputId": "d71c69e8-4287-4438-964f-a7e0c21b7205"
   },
   "outputs": [],
   "source": [
    "t2.area()"
   ]
  },
  {
   "cell_type": "code",
   "execution_count": null,
   "metadata": {
    "colab": {
     "base_uri": "https://localhost:8080/",
     "height": 35
    },
    "id": "K7aNze6dzG-8",
    "outputId": "c3a58066-a32c-44ec-b89b-2ac409824279"
   },
   "outputs": [],
   "source": [
    "t2.tipo()"
   ]
  },
  {
   "cell_type": "markdown",
   "metadata": {},
   "source": [
    "--------------"
   ]
  },
  {
   "cell_type": "markdown",
   "metadata": {},
   "source": [
    "## Fim da Aula 16"
   ]
  }
 ],
 "metadata": {
  "colab": {
   "provenance": []
  },
  "kernelspec": {
   "display_name": "Python [conda env:base] *",
   "language": "python",
   "name": "conda-base-py"
  },
  "language_info": {
   "codemirror_mode": {
    "name": "ipython",
    "version": 3
   },
   "file_extension": ".py",
   "mimetype": "text/x-python",
   "name": "python",
   "nbconvert_exporter": "python",
   "pygments_lexer": "ipython3",
   "version": "3.12.7"
  }
 },
 "nbformat": 4,
 "nbformat_minor": 4
}
